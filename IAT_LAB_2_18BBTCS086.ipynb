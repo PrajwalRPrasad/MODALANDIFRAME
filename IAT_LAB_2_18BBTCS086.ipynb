{
  "nbformat": 4,
  "nbformat_minor": 5,
  "metadata": {
    "kernelspec": {
      "display_name": "Python 3 (ipykernel)",
      "language": "python",
      "name": "python3"
    },
    "language_info": {
      "codemirror_mode": {
        "name": "ipython",
        "version": 3
      },
      "file_extension": ".py",
      "mimetype": "text/x-python",
      "name": "python",
      "nbconvert_exporter": "python",
      "pygments_lexer": "ipython3",
      "version": "3.8.8"
    },
    "colab": {
      "name": "IAT LAB-2 - 18BBTCS086.ipynb",
      "provenance": [],
      "include_colab_link": true
    }
  },
  "cells": [
    {
      "cell_type": "markdown",
      "metadata": {
        "id": "view-in-github",
        "colab_type": "text"
      },
      "source": [
        "<a href=\"https://colab.research.google.com/github/PrajwalRPrasad/MODALANDIFRAME/blob/master/IAT_LAB_2_18BBTCS086.ipynb\" target=\"_parent\"><img src=\"https://colab.research.google.com/assets/colab-badge.svg\" alt=\"Open In Colab\"/></a>"
      ]
    },
    {
      "cell_type": "markdown",
      "metadata": {
        "id": "ea0b75d8"
      },
      "source": [
        "US Baby Names 1880–2010: The United States Social Security Administration (SSA) has made available data on the frequency of baby names from 1880 to 2010<br>\n",
        "i. Use Data Wrangling to load this dataset<br>\n",
        "ii. Find sum of the birth’s column by sex as the total number of births in that year<br>\n",
        "iii. Assemble all of the data into a single Data Frame and further add a year field<br>\n",
        "iv. Visualize total births by sex and year"
      ],
      "id": "ea0b75d8"
    },
    {
      "cell_type": "code",
      "metadata": {
        "id": "fd22c566"
      },
      "source": [
        "import pandas as pd\n",
        "import numpy as np"
      ],
      "id": "fd22c566",
      "execution_count": null,
      "outputs": []
    },
    {
      "cell_type": "code",
      "metadata": {
        "id": "8cb38e2c",
        "outputId": "cb497e0f-05b4-4723-cfea-9637e1a8089d"
      },
      "source": [
        "#i. Use Data Wrangling to load this dataset\n",
        "\n",
        "names1888 = pd.read_csv('yob1888.txt',\n",
        "                       names=['name', 'sex', 'births'])\n",
        "names1888.head()"
      ],
      "id": "8cb38e2c",
      "execution_count": null,
      "outputs": [
        {
          "data": {
            "text/html": [
              "<div>\n",
              "<style scoped>\n",
              "    .dataframe tbody tr th:only-of-type {\n",
              "        vertical-align: middle;\n",
              "    }\n",
              "\n",
              "    .dataframe tbody tr th {\n",
              "        vertical-align: top;\n",
              "    }\n",
              "\n",
              "    .dataframe thead th {\n",
              "        text-align: right;\n",
              "    }\n",
              "</style>\n",
              "<table border=\"1\" class=\"dataframe\">\n",
              "  <thead>\n",
              "    <tr style=\"text-align: right;\">\n",
              "      <th></th>\n",
              "      <th>name</th>\n",
              "      <th>sex</th>\n",
              "      <th>births</th>\n",
              "    </tr>\n",
              "  </thead>\n",
              "  <tbody>\n",
              "    <tr>\n",
              "      <th>0</th>\n",
              "      <td>Mary</td>\n",
              "      <td>F</td>\n",
              "      <td>11754</td>\n",
              "    </tr>\n",
              "    <tr>\n",
              "      <th>1</th>\n",
              "      <td>Anna</td>\n",
              "      <td>F</td>\n",
              "      <td>4982</td>\n",
              "    </tr>\n",
              "    <tr>\n",
              "      <th>2</th>\n",
              "      <td>Elizabeth</td>\n",
              "      <td>F</td>\n",
              "      <td>3224</td>\n",
              "    </tr>\n",
              "    <tr>\n",
              "      <th>3</th>\n",
              "      <td>Emma</td>\n",
              "      <td>F</td>\n",
              "      <td>3087</td>\n",
              "    </tr>\n",
              "    <tr>\n",
              "      <th>4</th>\n",
              "      <td>Margaret</td>\n",
              "      <td>F</td>\n",
              "      <td>2904</td>\n",
              "    </tr>\n",
              "  </tbody>\n",
              "</table>\n",
              "</div>"
            ],
            "text/plain": [
              "        name sex  births\n",
              "0       Mary   F   11754\n",
              "1       Anna   F    4982\n",
              "2  Elizabeth   F    3224\n",
              "3       Emma   F    3087\n",
              "4   Margaret   F    2904"
            ]
          },
          "execution_count": 2,
          "metadata": {},
          "output_type": "execute_result"
        }
      ]
    },
    {
      "cell_type": "code",
      "metadata": {
        "id": "fe8a6f49",
        "outputId": "fafe38ae-c18e-4fd0-cc12-3f1c02d3f492"
      },
      "source": [
        "#Loading the multiple datasets of years and \n",
        "#iii. Assemble all of the data into a single Data Frame and further add a year field\n",
        "\n",
        "years = [1888,1889,1900,1910,1928,1940,1969,1980,2000,2010]\n",
        "pieces = []\n",
        "columns = ['name', 'sex', 'births']\n",
        "for year in years:\n",
        "    path = 'yob%d.txt' % year\n",
        "    frame = pd.read_csv(path, names=columns)\n",
        "    \n",
        "    frame['year'] = year\n",
        "    pieces.append(frame)\n",
        "\n",
        "result = pd.concat(pieces, ignore_index=True)\n",
        "result"
      ],
      "id": "fe8a6f49",
      "execution_count": null,
      "outputs": [
        {
          "data": {
            "text/html": [
              "<div>\n",
              "<style scoped>\n",
              "    .dataframe tbody tr th:only-of-type {\n",
              "        vertical-align: middle;\n",
              "    }\n",
              "\n",
              "    .dataframe tbody tr th {\n",
              "        vertical-align: top;\n",
              "    }\n",
              "\n",
              "    .dataframe thead th {\n",
              "        text-align: right;\n",
              "    }\n",
              "</style>\n",
              "<table border=\"1\" class=\"dataframe\">\n",
              "  <thead>\n",
              "    <tr style=\"text-align: right;\">\n",
              "      <th></th>\n",
              "      <th>name</th>\n",
              "      <th>sex</th>\n",
              "      <th>births</th>\n",
              "      <th>year</th>\n",
              "    </tr>\n",
              "  </thead>\n",
              "  <tbody>\n",
              "    <tr>\n",
              "      <th>0</th>\n",
              "      <td>Mary</td>\n",
              "      <td>F</td>\n",
              "      <td>11754</td>\n",
              "      <td>1888</td>\n",
              "    </tr>\n",
              "    <tr>\n",
              "      <th>1</th>\n",
              "      <td>Anna</td>\n",
              "      <td>F</td>\n",
              "      <td>4982</td>\n",
              "      <td>1888</td>\n",
              "    </tr>\n",
              "    <tr>\n",
              "      <th>2</th>\n",
              "      <td>Elizabeth</td>\n",
              "      <td>F</td>\n",
              "      <td>3224</td>\n",
              "      <td>1888</td>\n",
              "    </tr>\n",
              "    <tr>\n",
              "      <th>3</th>\n",
              "      <td>Emma</td>\n",
              "      <td>F</td>\n",
              "      <td>3087</td>\n",
              "      <td>1888</td>\n",
              "    </tr>\n",
              "    <tr>\n",
              "      <th>4</th>\n",
              "      <td>Margaret</td>\n",
              "      <td>F</td>\n",
              "      <td>2904</td>\n",
              "      <td>1888</td>\n",
              "    </tr>\n",
              "    <tr>\n",
              "      <th>...</th>\n",
              "      <td>...</td>\n",
              "      <td>...</td>\n",
              "      <td>...</td>\n",
              "      <td>...</td>\n",
              "    </tr>\n",
              "    <tr>\n",
              "      <th>129745</th>\n",
              "      <td>Zymaire</td>\n",
              "      <td>M</td>\n",
              "      <td>5</td>\n",
              "      <td>2010</td>\n",
              "    </tr>\n",
              "    <tr>\n",
              "      <th>129746</th>\n",
              "      <td>Zyonne</td>\n",
              "      <td>M</td>\n",
              "      <td>5</td>\n",
              "      <td>2010</td>\n",
              "    </tr>\n",
              "    <tr>\n",
              "      <th>129747</th>\n",
              "      <td>Zyquarius</td>\n",
              "      <td>M</td>\n",
              "      <td>5</td>\n",
              "      <td>2010</td>\n",
              "    </tr>\n",
              "    <tr>\n",
              "      <th>129748</th>\n",
              "      <td>Zyran</td>\n",
              "      <td>M</td>\n",
              "      <td>5</td>\n",
              "      <td>2010</td>\n",
              "    </tr>\n",
              "    <tr>\n",
              "      <th>129749</th>\n",
              "      <td>Zzyzx</td>\n",
              "      <td>M</td>\n",
              "      <td>5</td>\n",
              "      <td>2010</td>\n",
              "    </tr>\n",
              "  </tbody>\n",
              "</table>\n",
              "<p>129750 rows × 4 columns</p>\n",
              "</div>"
            ],
            "text/plain": [
              "             name sex  births  year\n",
              "0            Mary   F   11754  1888\n",
              "1            Anna   F    4982  1888\n",
              "2       Elizabeth   F    3224  1888\n",
              "3            Emma   F    3087  1888\n",
              "4        Margaret   F    2904  1888\n",
              "...           ...  ..     ...   ...\n",
              "129745    Zymaire   M       5  2010\n",
              "129746     Zyonne   M       5  2010\n",
              "129747  Zyquarius   M       5  2010\n",
              "129748      Zyran   M       5  2010\n",
              "129749      Zzyzx   M       5  2010\n",
              "\n",
              "[129750 rows x 4 columns]"
            ]
          },
          "execution_count": 4,
          "metadata": {},
          "output_type": "execute_result"
        }
      ]
    },
    {
      "cell_type": "code",
      "metadata": {
        "id": "cc4336ec",
        "outputId": "1bfb6d5a-f7bb-4973-d7f1-08cde9f7240a"
      },
      "source": [
        "#ii. Find sum of the birth’s column by sex as the total number of births in that year\n",
        "\n",
        "total_births = result.pivot_table('births', index='year',\n",
        "                                columns='sex', aggfunc='sum')\n",
        "total_births"
      ],
      "id": "cc4336ec",
      "execution_count": null,
      "outputs": [
        {
          "data": {
            "text/html": [
              "<div>\n",
              "<style scoped>\n",
              "    .dataframe tbody tr th:only-of-type {\n",
              "        vertical-align: middle;\n",
              "    }\n",
              "\n",
              "    .dataframe tbody tr th {\n",
              "        vertical-align: top;\n",
              "    }\n",
              "\n",
              "    .dataframe thead th {\n",
              "        text-align: right;\n",
              "    }\n",
              "</style>\n",
              "<table border=\"1\" class=\"dataframe\">\n",
              "  <thead>\n",
              "    <tr style=\"text-align: right;\">\n",
              "      <th>sex</th>\n",
              "      <th>F</th>\n",
              "      <th>M</th>\n",
              "    </tr>\n",
              "    <tr>\n",
              "      <th>year</th>\n",
              "      <th></th>\n",
              "      <th></th>\n",
              "    </tr>\n",
              "  </thead>\n",
              "  <tbody>\n",
              "    <tr>\n",
              "      <th>1888</th>\n",
              "      <td>178622</td>\n",
              "      <td>120851</td>\n",
              "    </tr>\n",
              "    <tr>\n",
              "      <th>1889</th>\n",
              "      <td>178366</td>\n",
              "      <td>110580</td>\n",
              "    </tr>\n",
              "    <tr>\n",
              "      <th>1900</th>\n",
              "      <td>299800</td>\n",
              "      <td>150483</td>\n",
              "    </tr>\n",
              "    <tr>\n",
              "      <th>1910</th>\n",
              "      <td>396502</td>\n",
              "      <td>194213</td>\n",
              "    </tr>\n",
              "    <tr>\n",
              "      <th>1928</th>\n",
              "      <td>1153221</td>\n",
              "      <td>1107618</td>\n",
              "    </tr>\n",
              "    <tr>\n",
              "      <th>1940</th>\n",
              "      <td>1143393</td>\n",
              "      <td>1158985</td>\n",
              "    </tr>\n",
              "    <tr>\n",
              "      <th>1969</th>\n",
              "      <td>1686999</td>\n",
              "      <td>1789216</td>\n",
              "    </tr>\n",
              "    <tr>\n",
              "      <th>1980</th>\n",
              "      <td>1660147</td>\n",
              "      <td>1784390</td>\n",
              "    </tr>\n",
              "    <tr>\n",
              "      <th>2000</th>\n",
              "      <td>1815110</td>\n",
              "      <td>1962969</td>\n",
              "    </tr>\n",
              "    <tr>\n",
              "      <th>2010</th>\n",
              "      <td>1774758</td>\n",
              "      <td>1915942</td>\n",
              "    </tr>\n",
              "  </tbody>\n",
              "</table>\n",
              "</div>"
            ],
            "text/plain": [
              "sex         F        M\n",
              "year                  \n",
              "1888   178622   120851\n",
              "1889   178366   110580\n",
              "1900   299800   150483\n",
              "1910   396502   194213\n",
              "1928  1153221  1107618\n",
              "1940  1143393  1158985\n",
              "1969  1686999  1789216\n",
              "1980  1660147  1784390\n",
              "2000  1815110  1962969\n",
              "2010  1774758  1915942"
            ]
          },
          "execution_count": 5,
          "metadata": {},
          "output_type": "execute_result"
        }
      ]
    },
    {
      "cell_type": "code",
      "metadata": {
        "id": "0c6cdf19",
        "outputId": "4b752a51-499d-4c78-bf97-30dcda998a84"
      },
      "source": [
        "#iv. Visualize total births by sex and year\n",
        "\n",
        "line_graph = total_births.plot(title='Total births by sex and year')\n",
        "print(line_graph)"
      ],
      "id": "0c6cdf19",
      "execution_count": null,
      "outputs": [
        {
          "name": "stdout",
          "output_type": "stream",
          "text": [
            "AxesSubplot(0.125,0.125;0.775x0.755)\n"
          ]
        },
        {
          "data": {
            "image/png": "[encoded data removed]",
            "text/plain": [
              "<Figure size 432x288 with 1 Axes>"
            ]
          },
          "metadata": {
            "needs_background": "light"
          },
          "output_type": "display_data"
        }
      ]
    },
    {
      "cell_type": "code",
      "metadata": {
        "id": "53686116"
      },
      "source": [
        ""
      ],
      "id": "53686116",
      "execution_count": null,
      "outputs": []
    }
  ]
}